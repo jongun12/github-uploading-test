{
 "cells": [
  {
   "cell_type": "code",
   "execution_count": 2,
   "metadata": {},
   "outputs": [],
   "source": [
    "import os\n",
    "from importlib import reload\n",
    "from PIL import Image\n",
    "\n",
    "import cambridge\n",
    "reload(cambridge)\n",
    "\n",
    "dataset_root = '/Users/bj/Datasets/Cambridge/Street'\n",
    "dataset = cambridge.CambridgeDataset(dataset_root, mode='train')\n",
    "\n",
    "image, tr, rot = dataset[0]"
   ]
  },
  {
   "cell_type": "code",
   "execution_count": 3,
   "metadata": {},
   "outputs": [],
   "source": [
    "import os\n",
    "from importlib import reload\n",
    "from PIL import Image\n",
    "\n",
    "import torch\n",
    "import torchvision\n",
    "\n",
    "import models.posenet\n",
    "reload(models.posenet)\n",
    "\n",
    "m = models.posenet.PoseNet()\n",
    "\n",
    "x = torch.randn(1, 3, 360, 480)\n",
    "\n",
    "tr,rot = m(x)"
   ]
  },
  {
   "cell_type": "code",
   "execution_count": null,
   "metadata": {},
   "outputs": [],
   "source": [
    "import torch\n",
    "from importlib import reload\n",
    "\n",
    "import criterion\n",
    "reload(criterion)\n",
    "\n",
    "pred_tr = torch.randn(10, 3)\n",
    "pred_rot = torch.randn(10, 4)\n",
    "\n",
    "target_tr = torch.randn(10, 3)\n",
    "target_rot = torch.randn(10, 4)\n",
    "\n",
    "loss, tr_loss, rot_loss = criterion.compute_pose_loss(pred_tr, pred_rot, target_tr, target_rot)"
   ]
  },
  {
   "cell_type": "code",
   "execution_count": 4,
   "metadata": {},
   "outputs": [
    {
     "data": {
      "text/plain": [
       "tensor([[-0.0392, -0.0506, -0.0031]], grad_fn=<AddmmBackward0>)"
      ]
     },
     "execution_count": 4,
     "metadata": {},
     "output_type": "execute_result"
    }
   ],
   "source": [
    "tr"
   ]
  },
  {
   "cell_type": "code",
   "execution_count": 5,
   "metadata": {},
   "outputs": [
    {
     "data": {
      "text/plain": [
       "tensor([[ 0.0454, -0.0083,  0.0235,  0.0077]], grad_fn=<AddmmBackward0>)"
      ]
     },
     "execution_count": 5,
     "metadata": {},
     "output_type": "execute_result"
    }
   ],
   "source": [
    "rot"
   ]
  }
 ],
 "metadata": {
  "kernelspec": {
   "display_name": "Python 3",
   "language": "python",
   "name": "python3"
  },
  "language_info": {
   "codemirror_mode": {
    "name": "ipython",
    "version": 3
   },
   "file_extension": ".py",
   "mimetype": "text/x-python",
   "name": "python",
   "nbconvert_exporter": "python",
   "pygments_lexer": "ipython3",
   "version": "3.11.5"
  }
 },
 "nbformat": 4,
 "nbformat_minor": 2
}
