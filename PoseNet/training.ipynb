{
 "cells": [
  {
   "cell_type": "markdown",
   "metadata": {},
   "source": [
    "packages"
   ]
  },
  {
   "cell_type": "code",
   "execution_count": 1,
   "metadata": {},
   "outputs": [],
   "source": [
    "import os\n",
    "import numpy as np\n",
    "from matplotlib import pyplot as plt\n",
    "\n",
    "from PIL import Image\n",
    "import cv2\n",
    "\n",
    "import torch\n",
    "from torch import nn\n",
    "from torch.functional import F\n",
    "import torchvision\n",
    "from torchvision import transforms\n",
    "\n",
    "from importlib import reload"
   ]
  },
  {
   "cell_type": "code",
   "execution_count": 2,
   "metadata": {},
   "outputs": [
    {
     "data": {
      "text/plain": [
       "<module 'criterion' from 'c:\\\\Users\\\\82105\\\\Desktop\\\\PoseNet\\\\PoseNet\\\\criterion.py'>"
      ]
     },
     "execution_count": 2,
     "metadata": {},
     "output_type": "execute_result"
    }
   ],
   "source": [
    "import cambridge\n",
    "reload(cambridge)\n",
    "\n",
    "import criterion\n",
    "reload(criterion)"
   ]
  },
  {
   "cell_type": "markdown",
   "metadata": {},
   "source": [
    "meta-parameters"
   ]
  },
  {
   "cell_type": "code",
   "execution_count": 3,
   "metadata": {},
   "outputs": [],
   "source": [
    "batch_size = 32\n",
    "learning_rate = 1e-4\n",
    "num_epochs = 3\n",
    "image_height = 360#224\n",
    "image_width = 480#224\n",
    "beta = 300"
   ]
  },
  {
   "cell_type": "markdown",
   "metadata": {},
   "source": [
    "device"
   ]
  },
  {
   "cell_type": "code",
   "execution_count": 4,
   "metadata": {},
   "outputs": [
    {
     "name": "stdout",
     "output_type": "stream",
     "text": [
      "using cpu device\n"
     ]
    }
   ],
   "source": [
    "# cuda or mps\n",
    "if torch.cuda.is_available():\n",
    "    device = torch.device('cuda')\n",
    "else:\n",
    "    device = torch.device('cpu')\n",
    "print(f\"using {device} device\")"
   ]
  },
  {
   "cell_type": "markdown",
   "metadata": {},
   "source": [
    "logger"
   ]
  },
  {
   "cell_type": "code",
   "execution_count": 5,
   "metadata": {},
   "outputs": [],
   "source": [
    "# logger\n",
    "class AverageMeter():\n",
    "    def __init__(self):\n",
    "        self.reset()\n",
    "\n",
    "    def reset(self):\n",
    "        self.val = 0\n",
    "        self.avg = 0\n",
    "        self.sum = 0\n",
    "        self.count = 0\n",
    "\n",
    "    def update(self, val, n=1):\n",
    "        self.val = val\n",
    "        self.sum += val * n\n",
    "        self.count += n\n",
    "        self.avg = self.sum / self.count"
   ]
  },
  {
   "cell_type": "markdown",
   "metadata": {},
   "source": [
    "transform"
   ]
  },
  {
   "cell_type": "code",
   "execution_count": 6,
   "metadata": {},
   "outputs": [],
   "source": [
    "# basic transform\n",
    "transform = transforms.Compose([\n",
    "    transforms.Resize((image_height, image_width)),\n",
    "    transforms.ToTensor(),\n",
    "    transforms.Normalize(mean=[0.485, 0.456, 0.406], \n",
    "                         std=[0.229, 0.224, 0.225])\n",
    "])"
   ]
  },
  {
   "cell_type": "markdown",
   "metadata": {},
   "source": [
    "dataset"
   ]
  },
  {
   "cell_type": "code",
   "execution_count": 7,
   "metadata": {},
   "outputs": [],
   "source": [
    "# load dataset\n",
    "dataset_root = '/Users/82105/Desktop/sample'\n",
    "train_set = cambridge.CambridgeDataset(dataset_root, 'train', transform=transform)\n",
    "\n",
    "# split train and val set\n",
    "split_ratio = 0.8\n",
    "seed = 42\n",
    "torch.manual_seed(seed)\n",
    "train_set, val_set = torch.utils.data.random_split(train_set, \n",
    "                                                   [int(len(train_set)*split_ratio), \n",
    "                                                    len(train_set)-int(len(train_set)*split_ratio)])\n"
   ]
  },
  {
   "cell_type": "code",
   "execution_count": 8,
   "metadata": {},
   "outputs": [],
   "source": [
    "test_set = cambridge.CambridgeDataset(dataset_root, 'test', transform=transform)"
   ]
  },
  {
   "cell_type": "markdown",
   "metadata": {},
   "source": [
    "dataloader"
   ]
  },
  {
   "cell_type": "code",
   "execution_count": 9,
   "metadata": {},
   "outputs": [],
   "source": [
    "train_loader = torch.utils.data.DataLoader(train_set, batch_size=batch_size, shuffle=True)\n",
    "val_loader = torch.utils.data.DataLoader(val_set, batch_size=batch_size, shuffle=False)\n",
    "test_loader = torch.utils.data.DataLoader(test_set, batch_size=batch_size, shuffle=False)"
   ]
  },
  {
   "cell_type": "markdown",
   "metadata": {},
   "source": [
    "model"
   ]
  },
  {
   "cell_type": "code",
   "execution_count": 10,
   "metadata": {},
   "outputs": [],
   "source": [
    "import models.eachnet\n",
    "reload(models.eachnet)\n",
    "\n",
    "model = models.eachnet.EachNet().to(device)"
   ]
  },
  {
   "cell_type": "markdown",
   "metadata": {},
   "source": [
    "optimizer"
   ]
  },
  {
   "cell_type": "code",
   "execution_count": 11,
   "metadata": {},
   "outputs": [],
   "source": [
    "optimizer = torch.optim.Adam(model.parameters(), lr=learning_rate)"
   ]
  },
  {
   "cell_type": "markdown",
   "metadata": {},
   "source": [
    "training loop"
   ]
  },
  {
   "cell_type": "code",
   "execution_count": 12,
   "metadata": {},
   "outputs": [],
   "source": [
    "loss_meter = AverageMeter()\n",
    "tr_loss_meter = AverageMeter()\n",
    "rot_loss_meter = AverageMeter()\n",
    "\n",
    "train_loss_log = []\n",
    "train_tr_loss_log = []\n",
    "train_rot_loss_log = []\n",
    "val_loss_log = []\n",
    "val_tr_loss_log = []\n",
    "val_rot_loss_log = []"
   ]
  },
  {
   "cell_type": "code",
   "execution_count": 13,
   "metadata": {},
   "outputs": [],
   "source": [
    "total_step = len(train_loader)\n",
    "visualize_step = total_step // 1 ################### 10"
   ]
  },
  {
   "cell_type": "code",
   "execution_count": 14,
   "metadata": {},
   "outputs": [
    {
     "name": "stdout",
     "output_type": "stream",
     "text": [
      "learing rage:  0.0001\n",
      "------------------- Train: Epoch [1/3] -------------------\n",
      "Epoch [1/3], Step [1/1], Loss: 174.0111, Tr Loss: 62.7729, Rot Loss: 0.3708\n",
      "==> Train loss: 174.0111 tr loss: 62.7729 rot loss: 0.3708\n",
      "------------------- Val: Epoch [1/3] -------------------\n",
      "Epoch [1/3], Step [1/1], Loss: 48.3374, Tr Loss: 38.2290, Rot Loss: 0.0337\n",
      "==> Val loss: 48.3374 tr loss: 38.2290 rot loss: 0.0337\n",
      "learing rage:  0.0001\n",
      "------------------- Train: Epoch [2/3] -------------------\n",
      "Epoch [2/3], Step [1/1], Loss: 30.0265, Tr Loss: 15.2191, Rot Loss: 0.0494\n",
      "==> Train loss: 30.0265 tr loss: 15.2191 rot loss: 0.0494\n",
      "------------------- Val: Epoch [2/3] -------------------\n",
      "Epoch [2/3], Step [1/1], Loss: 21.9944, Tr Loss: 18.4786, Rot Loss: 0.0117\n",
      "==> Val loss: 21.9944 tr loss: 18.4786 rot loss: 0.0117\n",
      "learing rage:  0.0001\n",
      "------------------- Train: Epoch [3/3] -------------------\n",
      "Epoch [3/3], Step [1/1], Loss: 7.8052, Tr Loss: 1.1139, Rot Loss: 0.0223\n",
      "==> Train loss: 7.8052 tr loss: 1.1139 rot loss: 0.0223\n",
      "------------------- Val: Epoch [3/3] -------------------\n",
      "Epoch [3/3], Step [1/1], Loss: 7.7685, Tr Loss: 6.3760, Rot Loss: 0.0046\n",
      "==> Val loss: 7.7685 tr loss: 6.3760 rot loss: 0.0046\n",
      "best model updated\n"
     ]
    }
   ],
   "source": [
    "best_val_loss = 1e10\n",
    "\n",
    "for epoch in range(num_epochs):\n",
    "\n",
    "    for param_group in optimizer.param_groups:\n",
    "        print('learing rage: ', param_group['lr'])\n",
    "\n",
    "    # train\n",
    "    model.train()\n",
    "    print ('------------------- Train: Epoch [{}/{}] -------------------'.format(\\\n",
    "        epoch+1, num_epochs) )\n",
    "\n",
    "    loss_meter.reset()\n",
    "    tr_loss_meter.reset()\n",
    "    rot_loss_meter.reset()\n",
    "\n",
    "    for i, (image, target_tr, target_rot) in enumerate(train_loader):\n",
    "        image = image.to(device)\n",
    "        target_tr = target_tr.to(device)\n",
    "        target_rot = target_rot.to(device)\n",
    "\n",
    "        # Forward pass\n",
    "        pred_tr, pred_rot = model(image)\n",
    "        loss, tr_loss, rot_loss = criterion.compute_pose_loss(pred_tr, pred_rot, target_tr, target_rot,beta)\n",
    "\n",
    "        # Backward and optimize\n",
    "        optimizer.zero_grad()\n",
    "        loss.backward()\n",
    "        optimizer.step()\n",
    "\n",
    "        # logging\n",
    "        loss_meter.update(loss.item(), image.size()[0] )\n",
    "        tr_loss_meter.update(tr_loss.item(), image.size()[0] )\n",
    "        rot_loss_meter.update(rot_loss.item(), image.size()[0] )\n",
    "\n",
    "        if (i+1) % visualize_step == 0:\n",
    "            print ('Epoch [{}/{}], Step [{}/{}], Loss: {:.4f}, Tr Loss: {:.4f}, Rot Loss: {:.4f}'.format(\\\n",
    "                epoch+1, num_epochs, i+1, total_step, loss.item(), tr_loss.item(), rot_loss.item() ) )\n",
    "\n",
    "    print ('==> Train loss: {:.4f}'.format(loss_meter.avg),'tr loss: {:.4f}'.format(tr_loss_meter.avg),'rot loss: {:.4f}'.format(rot_loss_meter.avg) )\n",
    "\n",
    "    train_loss_log.append(loss_meter.avg)\n",
    "    train_tr_loss_log.append(tr_loss_meter.avg)\n",
    "    train_rot_loss_log.append(rot_loss_meter.avg)\n",
    "\n",
    "    # val\n",
    "    model.eval() \n",
    "    print ('------------------- Val: Epoch [{}/{}] -------------------'.format(\\\n",
    "        epoch+1, num_epochs) ) \n",
    "    \n",
    "    loss_meter.reset()\n",
    "    tr_loss_meter.reset()\n",
    "    rot_loss_meter.reset()\n",
    "\n",
    "    for i, (image, target_tr, target_rot) in enumerate(val_loader):\n",
    "        image = image.to(device)\n",
    "        target_tr = target_tr.to(device)\n",
    "        target_rot = target_rot.to(device)\n",
    "\n",
    "        # Forward pass\n",
    "        pred_tr, pred_rot = model(image)\n",
    "        loss, tr_loss, rot_loss = criterion.compute_pose_loss(pred_tr, pred_rot, target_tr, target_rot,beta)\n",
    "\n",
    "        # logging\n",
    "        loss_meter.update(loss.item(), image.size()[0] )\n",
    "        tr_loss_meter.update(tr_loss.item(), image.size()[0] )\n",
    "        rot_loss_meter.update(rot_loss.item(), image.size()[0] )\n",
    "\n",
    "        if (i+1) % visualize_step == 0:\n",
    "            print ('Epoch [{}/{}], Step [{}/{}], Loss: {:.4f}, Tr Loss: {:.4f}, Rot Loss: {:.4f}'.format(\\\n",
    "                epoch+1, num_epochs, i+1, total_step, loss.item(), tr_loss.item(), rot_loss.item() ) )\n",
    "            \n",
    "    print ('==> Val loss: {:.4f}'.format(loss_meter.avg),'tr loss: {:.4f}'.format(tr_loss_meter.avg),'rot loss: {:.4f}'.format(rot_loss_meter.avg) )\n",
    "\n",
    "    val_loss_log.append(loss_meter.avg)\n",
    "    val_tr_loss_log.append(tr_loss_meter.avg)\n",
    "    val_rot_loss_log.append(rot_loss_meter.avg)\n",
    "\n",
    "    # save model\n",
    "    if loss_meter.avg < best_val_loss:\n",
    "        best_val_loss = loss_meter.avg\n",
    "        if not os.path.exists('checkpoint'):\n",
    "            os.makedirs('checkpoint')\n",
    "        torch.save(model.state_dict(), 'checkpoint/best.pth')\n",
    "\n",
    "# save best model\n",
    "if not os.path.exists('checkpoint/last.pth'):\n",
    "    print('best model updated')\n",
    "    checkpoint = {\n",
    "        'model': torch.load('checkpoint/best.pth'),\n",
    "        'optimizer': optimizer.state_dict(),\n",
    "        'epoch': epoch,\n",
    "        'loss': best_val_loss\n",
    "    }\n",
    "    torch.save(checkpoint, 'checkpoint/last.pth')\n",
    "else:\n",
    "    checkpoint = torch.load('checkpoint/last.pth')\n",
    "    if checkpoint['loss'] > best_val_loss:\n",
    "        print('best model updated')\n",
    "        checkpoint = {\n",
    "            'model': torch.load('checkpoint/best.pth'),\n",
    "            'optimizer': optimizer.state_dict(),\n",
    "            'epoch': epoch,\n",
    "            'loss': best_val_loss\n",
    "        }\n",
    "        torch.save(checkpoint, 'checkpoint/last.pth')\n"
   ]
  },
  {
   "cell_type": "code",
   "execution_count": 15,
   "metadata": {},
   "outputs": [
    {
     "data": {
      "image/png": "[encoded data removed]",
      "text/plain": [
       "<Figure size 640x480 with 1 Axes>"
      ]
     },
     "metadata": {},
     "output_type": "display_data"
    }
   ],
   "source": [
    "# plot losses\n",
    "plt.plot(train_loss_log, label='train loss')\n",
    "plt.plot(val_loss_log, label='val loss')\n",
    "plt.legend()\n",
    "plt.show()"
   ]
  },
  {
   "cell_type": "code",
   "execution_count": 16,
   "metadata": {},
   "outputs": [
    {
     "data": {
      "image/png": "[encoded data removed]",
      "text/plain": [
       "<Figure size 640x480 with 1 Axes>"
      ]
     },
     "metadata": {},
     "output_type": "display_data"
    }
   ],
   "source": [
    "plt.plot(train_tr_loss_log, label='train tr loss')\n",
    "plt.plot(val_tr_loss_log, label='val tr loss')\n",
    "plt.legend()\n",
    "plt.show()"
   ]
  },
  {
   "cell_type": "code",
   "execution_count": 17,
   "metadata": {},
   "outputs": [
    {
     "data": {
      "image/png": "[encoded data removed]",
      "text/plain": [
       "<Figure size 640x480 with 1 Axes>"
      ]
     },
     "metadata": {},
     "output_type": "display_data"
    }
   ],
   "source": [
    "plt.plot(train_rot_loss_log, label='train rot loss')\n",
    "plt.plot(val_rot_loss_log, label='val rot loss')\n",
    "plt.legend()\n",
    "plt.show()"
   ]
  },
  {
   "cell_type": "code",
   "execution_count": 18,
   "metadata": {},
   "outputs": [
    {
     "name": "stdout",
     "output_type": "stream",
     "text": [
      "loading model from checkpoint/last.pth\n"
     ]
    },
    {
     "name": "stderr",
     "output_type": "stream",
     "text": [
      "2it [00:00,  2.63it/s]"
     ]
    },
    {
     "name": "stdout",
     "output_type": "stream",
     "text": [
      "error_tr: 2.7756826877593994\n",
      "error_rot: 0.4948091327773344\n"
     ]
    },
    {
     "name": "stderr",
     "output_type": "stream",
     "text": [
      "\n"
     ]
    }
   ],
   "source": [
    "import utils\n",
    "reload(utils)\n",
    "\n",
    "# load model\n",
    "model_path = 'checkpoint/last.pth'\n",
    "\n",
    "if os.path.exists(model_path):\n",
    "    print(f\"loading model from {model_path}\")\n",
    "    model.load_state_dict(torch.load(model_path)['model'])\n",
    "\n",
    "# test\n",
    "\n",
    "error_tr_meter = AverageMeter()\n",
    "error_rot_meter = AverageMeter()\n",
    "\n",
    "model.eval()\n",
    "from tqdm import tqdm\n",
    "\n",
    "for idx, (image, target_tr, target_rot) in tqdm(enumerate(test_set) ): \n",
    "\n",
    "    image = image.to(device)\n",
    "    \n",
    "    target_tr = target_tr.to(device)\n",
    "\n",
    "    target_rot = target_rot.to(device)\n",
    "    target_rot = F.normalize(target_rot, p=2, dim=0)\n",
    "\n",
    "    pred_tr, pred_rot = model(image.unsqueeze(0)) \n",
    "\n",
    "    pred_tr = pred_tr.squeeze(0)\n",
    "\n",
    "    pred_rot = pred_rot.squeeze(0)\n",
    "    pred_rot = F.normalize(pred_rot, p=2, dim=0)\n",
    "\n",
    "    pred_rot = pred_rot.cpu().detach().numpy()\n",
    "    target_rot = target_rot.cpu().detach().numpy()\n",
    "\n",
    "    pred_tr = pred_tr.cpu().detach().numpy()\n",
    "    target_tr = target_tr.cpu().detach().numpy()\n",
    "\n",
    "#    pred_rot = utils.quat_to_euler(pred_rot)\n",
    "#    target_rot = utils.quat_to_euler(target_rot)\n",
    "    \n",
    "    error_tr = utils.position_dist(pred_tr, target_tr)\n",
    "    error_rot = utils.rotation_dist(pred_rot, target_rot)\n",
    "\n",
    "    error_tr_meter.update(error_tr)\n",
    "    error_rot_meter.update(error_rot)\n",
    "\n",
    "print(f\"error_tr: {error_tr_meter.avg}\")\n",
    "print(f\"error_rot: {error_rot_meter.avg}\")"
   ]
  }
 ],
 "metadata": {
  "kernelspec": {
   "display_name": "ENV3",
   "language": "python",
   "name": "python3"
  },
  "language_info": {
   "codemirror_mode": {
    "name": "ipython",
    "version": 3
   },
   "file_extension": ".py",
   "mimetype": "text/x-python",
   "name": "python",
   "nbconvert_exporter": "python",
   "pygments_lexer": "ipython3",
   "version": "3.11.5"
  }
 },
 "nbformat": 4,
 "nbformat_minor": 2
}
