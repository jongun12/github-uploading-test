{
 "cells": [
  {
   "cell_type": "markdown",
   "metadata": {},
   "source": [
    "packages"
   ]
  },
  {
   "cell_type": "code",
   "execution_count": null,
   "metadata": {},
   "outputs": [],
   "source": [
    "import os\n",
    "import numpy as np\n",
    "from matplotlib import pyplot as plt\n",
    "\n",
    "from PIL import Image\n",
    "import cv2\n",
    "\n",
    "import torch\n",
    "from torch import nn\n",
    "from torch.functional import F\n",
    "import torchvision\n",
    "from torchvision import transforms\n",
    "\n",
    "from importlib import reload"
   ]
  },
  {
   "cell_type": "code",
   "execution_count": null,
   "metadata": {},
   "outputs": [],
   "source": [
    "import cambridge\n",
    "reload(cambridge)\n",
    "\n",
    "import criterion\n",
    "reload(criterion)"
   ]
  },
  {
   "cell_type": "markdown",
   "metadata": {},
   "source": [
    "meta-parameters"
   ]
  },
  {
   "cell_type": "code",
   "execution_count": null,
   "metadata": {},
   "outputs": [],
   "source": [
    "batch_size = 32\n",
    "learning_rate = 1e-4\n",
    "num_epochs = 3\n",
    "image_height = 360#224\n",
    "image_width = 480#224"
   ]
  },
  {
   "cell_type": "markdown",
   "metadata": {},
   "source": [
    "device"
   ]
  },
  {
   "cell_type": "code",
   "execution_count": null,
   "metadata": {},
   "outputs": [],
   "source": [
    "# cuda or mps\n",
    "if torch.cuda.is_available():\n",
    "    device = torch.device('cuda')\n",
    "else:\n",
    "    device = torch.device('cpu')\n",
    "print(f\"using {device} device\")"
   ]
  },
  {
   "cell_type": "markdown",
   "metadata": {},
   "source": [
    "logger"
   ]
  },
  {
   "cell_type": "code",
   "execution_count": null,
   "metadata": {},
   "outputs": [],
   "source": [
    "# logger\n",
    "class AverageMeter():\n",
    "    def __init__(self):\n",
    "        self.reset()\n",
    "\n",
    "    def reset(self):\n",
    "        self.val = 0\n",
    "        self.avg = 0\n",
    "        self.sum = 0\n",
    "        self.count = 0\n",
    "\n",
    "    def update(self, val, n=1):\n",
    "        self.val = val\n",
    "        self.sum += val * n\n",
    "        self.count += n\n",
    "        self.avg = self.sum / self.count"
   ]
  },
  {
   "cell_type": "markdown",
   "metadata": {},
   "source": [
    "transform"
   ]
  },
  {
   "cell_type": "code",
   "execution_count": null,
   "metadata": {},
   "outputs": [],
   "source": [
    "# basic transform\n",
    "transform = transforms.Compose([\n",
    "    transforms.Resize((image_height, image_width)),\n",
    "    transforms.ToTensor(),\n",
    "    transforms.Normalize(mean=[0.485, 0.456, 0.406], \n",
    "                         std=[0.229, 0.224, 0.225])\n",
    "])"
   ]
  },
  {
   "cell_type": "markdown",
   "metadata": {},
   "source": [
    "dataset"
   ]
  },
  {
   "cell_type": "code",
   "execution_count": null,
   "metadata": {},
   "outputs": [],
   "source": [
    "# load dataset\n",
    "dataset_root = '/Users/82105/Desktop/sample'\n",
    "train_set = cambridge.CambridgeDataset(dataset_root, 'train', transform=transform)\n",
    "\n",
    "# split train and val set\n",
    "split_ratio = 0.8\n",
    "seed = 42\n",
    "torch.manual_seed(seed)\n",
    "train_set, val_set = torch.utils.data.random_split(train_set, \n",
    "                                                   [int(len(train_set)*split_ratio), \n",
    "                                                    len(train_set)-int(len(train_set)*split_ratio)])\n"
   ]
  },
  {
   "cell_type": "code",
   "execution_count": null,
   "metadata": {},
   "outputs": [],
   "source": [
    "test_set = cambridge.CambridgeDataset(dataset_root, 'test', transform=transform)"
   ]
  },
  {
   "cell_type": "markdown",
   "metadata": {},
   "source": [
    "dataloader"
   ]
  },
  {
   "cell_type": "code",
   "execution_count": null,
   "metadata": {},
   "outputs": [],
   "source": [
    "train_loader = torch.utils.data.DataLoader(train_set, batch_size=batch_size, shuffle=True)\n",
    "val_loader = torch.utils.data.DataLoader(val_set, batch_size=batch_size, shuffle=False)\n",
    "test_loader = torch.utils.data.DataLoader(test_set, batch_size=batch_size, shuffle=False)"
   ]
  },
  {
   "cell_type": "markdown",
   "metadata": {},
   "source": [
    "model"
   ]
  },
  {
   "cell_type": "code",
   "execution_count": null,
   "metadata": {},
   "outputs": [],
   "source": [
    "import models.networks\n",
    "reload(models.networks)\n",
    "\n",
    "model = models.networks.MobileNet()\n",
    "#model = models.networks.NewNet()\n",
    "\n",
    "model.to(device)"
   ]
  },
  {
   "cell_type": "code",
   "execution_count": null,
   "metadata": {},
   "outputs": [],
   "source": [
    "\"\"\"import models.posenet\n",
    "reload(models.posenet)\n",
    "\n",
    "############# input size 224x224 #################\n",
    "model = models.posenet.PoseNet(3,isTest=True).to(device)\"\"\""
   ]
  },
  {
   "cell_type": "markdown",
   "metadata": {},
   "source": [
    "optimizer"
   ]
  },
  {
   "cell_type": "code",
   "execution_count": null,
   "metadata": {},
   "outputs": [],
   "source": [
    "optimizer = torch.optim.Adam(model.parameters(), lr=learning_rate)"
   ]
  },
  {
   "cell_type": "markdown",
   "metadata": {},
   "source": [
    "training loop"
   ]
  },
  {
   "cell_type": "code",
   "execution_count": null,
   "metadata": {},
   "outputs": [],
   "source": [
    "loss_meter = AverageMeter()\n",
    "tr_loss_meter = AverageMeter()\n",
    "rot_loss_meter = AverageMeter()\n",
    "\n",
    "train_loss_log = []\n",
    "train_tr_loss_log = []\n",
    "train_rot_loss_log = []\n",
    "val_loss_log = []\n",
    "val_tr_loss_log = []\n",
    "val_rot_loss_log = []"
   ]
  },
  {
   "cell_type": "code",
   "execution_count": null,
   "metadata": {},
   "outputs": [],
   "source": [
    "total_step = len(train_loader)\n",
    "visualize_step = total_step // 10 ################### 10"
   ]
  },
  {
   "cell_type": "code",
   "execution_count": null,
   "metadata": {},
   "outputs": [],
   "source": [
    "best_val_loss = 1e10\n",
    "\n",
    "for epoch in range(num_epochs):\n",
    "\n",
    "    for param_group in optimizer.param_groups:\n",
    "        print('learing rage: ', param_group['lr'])\n",
    "\n",
    "    # train\n",
    "    model.train()\n",
    "    print ('------------------- Train: Epoch [{}/{}] -------------------'.format(\\\n",
    "        epoch+1, num_epochs) )\n",
    "\n",
    "    loss_meter.reset()\n",
    "    tr_loss_meter.reset()\n",
    "    rot_loss_meter.reset()\n",
    "\n",
    "    for i, (image, target_tr, target_rot) in enumerate(train_loader):\n",
    "        image = image.to(device)\n",
    "        target_tr = target_tr.to(device)\n",
    "        target_rot = target_rot.to(device)\n",
    "\n",
    "        # Forward pass\n",
    "        pred_tr, pred_rot = model(image)\n",
    "        loss, tr_loss, rot_loss = criterion.compute_pose_loss(pred_tr, pred_rot, target_tr, target_rot)\n",
    "\n",
    "        # Backward and optimize\n",
    "        optimizer.zero_grad()\n",
    "        loss.backward()\n",
    "        optimizer.step()\n",
    "\n",
    "        # logging\n",
    "        loss_meter.update(loss.item(), image.size()[0] )\n",
    "        tr_loss_meter.update(tr_loss.item(), image.size()[0] )\n",
    "        rot_loss_meter.update(rot_loss.item(), image.size()[0] )\n",
    "\n",
    "        if (i+1) % visualize_step == 0:\n",
    "            print ('Epoch [{}/{}], Step [{}/{}], Loss: {:.4f}, Tr Loss: {:.4f}, Rot Loss: {:.4f}'.format(\\\n",
    "                epoch+1, num_epochs, i+1, total_step, loss.item(), tr_loss.item(), rot_loss.item() ) )\n",
    "\n",
    "    print ('==> Train loss: {:.4f}'.format(loss_meter.avg) )\n",
    "\n",
    "    train_loss_log.append(loss_meter.avg)\n",
    "    train_tr_loss_log.append(tr_loss_meter.avg)\n",
    "    train_rot_loss_log.append(rot_loss_meter.avg)\n",
    "\n",
    "    # val\n",
    "    model.eval() \n",
    "    print ('------------------- Val: Epoch [{}/{}] -------------------'.format(\\\n",
    "        epoch+1, num_epochs) ) \n",
    "    \n",
    "    loss_meter.reset()\n",
    "    tr_loss_meter.reset()\n",
    "    rot_loss_meter.reset()\n",
    "\n",
    "    for i, (image, target_tr, target_rot) in enumerate(val_loader):\n",
    "        image = image.to(device)\n",
    "        target_tr = target_tr.to(device)\n",
    "        target_rot = target_rot.to(device)\n",
    "\n",
    "        # Forward pass\n",
    "        pred_tr, pred_rot = model(image)\n",
    "        loss, tr_loss, rot_loss = criterion.compute_pose_loss(pred_tr, pred_rot, target_tr, target_rot)\n",
    "\n",
    "        # logging\n",
    "        loss_meter.update(loss.item(), image.size()[0] )\n",
    "        tr_loss_meter.update(tr_loss.item(), image.size()[0] )\n",
    "        rot_loss_meter.update(rot_loss.item(), image.size()[0] )\n",
    "\n",
    "        if (i+1) % visualize_step == 0:\n",
    "            print ('Epoch [{}/{}], Step [{}/{}], Loss: {:.4f}, Tr Loss: {:.4f}, Rot Loss: {:.4f}'.format(\\\n",
    "                epoch+1, num_epochs, i+1, total_step, loss.item(), tr_loss.item(), rot_loss.item() ) )\n",
    "            \n",
    "    print ('==> Val loss: {:.4f}'.format(loss_meter.avg) )\n",
    "\n",
    "    val_loss_log.append(loss_meter.avg)\n",
    "    val_tr_loss_log.append(tr_loss_meter.avg)\n",
    "    val_rot_loss_log.append(rot_loss_meter.avg)\n",
    "\n",
    "    # save model\n",
    "    if loss_meter.avg < best_val_loss:\n",
    "        best_val_loss = loss_meter.avg\n",
    "        if not os.path.exists('checkpoint'):\n",
    "            os.makedirs('checkpoint')\n",
    "        torch.save(model.state_dict(), 'checkpoint/best.pth')\n"
   ]
  }
 ],
 "metadata": {
  "kernelspec": {
   "display_name": "ENV3",
   "language": "python",
   "name": "python3"
  },
  "language_info": {
   "codemirror_mode": {
    "name": "ipython",
    "version": 3
   },
   "file_extension": ".py",
   "mimetype": "text/x-python",
   "name": "python",
   "nbconvert_exporter": "python",
   "pygments_lexer": "ipython3",
   "version": "3.11.5"
  }
 },
 "nbformat": 4,
 "nbformat_minor": 2
}
